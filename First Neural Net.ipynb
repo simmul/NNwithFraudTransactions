{
 "cells": [
  {
   "cell_type": "markdown",
   "id": "29b963c8",
   "metadata": {},
   "source": [
    "Neural net for predicting fraudulent transactions using Kaggle Fraudulent Transactions Data (https://www.kaggle.com/datasets/chitwanmanchanda/fraudulent-transactions-data?resource=download).\n",
    "\n",
    "Importing necessary librarys."
   ]
  },
  {
   "cell_type": "code",
   "execution_count": 2,
   "id": "66eb2393",
   "metadata": {},
   "outputs": [
    {
     "name": "stdout",
     "output_type": "stream",
     "text": [
      "WARNING:tensorflow:From C:\\Users\\T440s\\anaconda3\\Lib\\site-packages\\keras\\src\\losses.py:2976: The name tf.losses.sparse_softmax_cross_entropy is deprecated. Please use tf.compat.v1.losses.sparse_softmax_cross_entropy instead.\n",
      "\n"
     ]
    }
   ],
   "source": [
    "import pandas as pd\n",
    "import numpy as np\n",
    "import matplotlib.pyplot as plt\n",
    "from sklearn.model_selection import train_test_split\n",
    "from sklearn.preprocessing import StandardScaler, OneHotEncoder\n",
    "from sklearn.compose import ColumnTransformer\n",
    "import tensorflow as tf\n",
    "import scipy as sp"
   ]
  },
  {
   "cell_type": "markdown",
   "id": "23090248",
   "metadata": {},
   "source": [
    "Downloading data"
   ]
  },
  {
   "cell_type": "code",
   "execution_count": 3,
   "id": "05e3723b",
   "metadata": {},
   "outputs": [],
   "source": [
    "df=pd.read_csv('C:/Users/T440s/Kaggle/archive/fraudulent_transaction_data.csv')"
   ]
  },
  {
   "cell_type": "markdown",
   "id": "5ff62477",
   "metadata": {},
   "source": [
    "Getting to know the data set."
   ]
  },
  {
   "cell_type": "code",
   "execution_count": 4,
   "id": "ac07dcf8",
   "metadata": {},
   "outputs": [
    {
     "data": {
      "text/html": [
       "<div>\n",
       "<style scoped>\n",
       "    .dataframe tbody tr th:only-of-type {\n",
       "        vertical-align: middle;\n",
       "    }\n",
       "\n",
       "    .dataframe tbody tr th {\n",
       "        vertical-align: top;\n",
       "    }\n",
       "\n",
       "    .dataframe thead th {\n",
       "        text-align: right;\n",
       "    }\n",
       "</style>\n",
       "<table border=\"1\" class=\"dataframe\">\n",
       "  <thead>\n",
       "    <tr style=\"text-align: right;\">\n",
       "      <th></th>\n",
       "      <th>step</th>\n",
       "      <th>amount</th>\n",
       "      <th>oldbalanceOrg</th>\n",
       "      <th>newbalanceOrig</th>\n",
       "      <th>oldbalanceDest</th>\n",
       "      <th>newbalanceDest</th>\n",
       "      <th>isFraud</th>\n",
       "      <th>isFlaggedFraud</th>\n",
       "    </tr>\n",
       "  </thead>\n",
       "  <tbody>\n",
       "    <tr>\n",
       "      <th>count</th>\n",
       "      <td>6.362620e+06</td>\n",
       "      <td>6.362620e+06</td>\n",
       "      <td>6.362620e+06</td>\n",
       "      <td>6.362620e+06</td>\n",
       "      <td>6.362620e+06</td>\n",
       "      <td>6.362620e+06</td>\n",
       "      <td>6.362620e+06</td>\n",
       "      <td>6.362620e+06</td>\n",
       "    </tr>\n",
       "    <tr>\n",
       "      <th>mean</th>\n",
       "      <td>2.433972e+02</td>\n",
       "      <td>1.798619e+05</td>\n",
       "      <td>8.338831e+05</td>\n",
       "      <td>8.551137e+05</td>\n",
       "      <td>1.100702e+06</td>\n",
       "      <td>1.224996e+06</td>\n",
       "      <td>1.290820e-03</td>\n",
       "      <td>2.514687e-06</td>\n",
       "    </tr>\n",
       "    <tr>\n",
       "      <th>std</th>\n",
       "      <td>1.423320e+02</td>\n",
       "      <td>6.038582e+05</td>\n",
       "      <td>2.888243e+06</td>\n",
       "      <td>2.924049e+06</td>\n",
       "      <td>3.399180e+06</td>\n",
       "      <td>3.674129e+06</td>\n",
       "      <td>3.590480e-02</td>\n",
       "      <td>1.585775e-03</td>\n",
       "    </tr>\n",
       "    <tr>\n",
       "      <th>min</th>\n",
       "      <td>1.000000e+00</td>\n",
       "      <td>0.000000e+00</td>\n",
       "      <td>0.000000e+00</td>\n",
       "      <td>0.000000e+00</td>\n",
       "      <td>0.000000e+00</td>\n",
       "      <td>0.000000e+00</td>\n",
       "      <td>0.000000e+00</td>\n",
       "      <td>0.000000e+00</td>\n",
       "    </tr>\n",
       "    <tr>\n",
       "      <th>25%</th>\n",
       "      <td>1.560000e+02</td>\n",
       "      <td>1.338957e+04</td>\n",
       "      <td>0.000000e+00</td>\n",
       "      <td>0.000000e+00</td>\n",
       "      <td>0.000000e+00</td>\n",
       "      <td>0.000000e+00</td>\n",
       "      <td>0.000000e+00</td>\n",
       "      <td>0.000000e+00</td>\n",
       "    </tr>\n",
       "    <tr>\n",
       "      <th>50%</th>\n",
       "      <td>2.390000e+02</td>\n",
       "      <td>7.487194e+04</td>\n",
       "      <td>1.420800e+04</td>\n",
       "      <td>0.000000e+00</td>\n",
       "      <td>1.327057e+05</td>\n",
       "      <td>2.146614e+05</td>\n",
       "      <td>0.000000e+00</td>\n",
       "      <td>0.000000e+00</td>\n",
       "    </tr>\n",
       "    <tr>\n",
       "      <th>75%</th>\n",
       "      <td>3.350000e+02</td>\n",
       "      <td>2.087215e+05</td>\n",
       "      <td>1.073152e+05</td>\n",
       "      <td>1.442584e+05</td>\n",
       "      <td>9.430367e+05</td>\n",
       "      <td>1.111909e+06</td>\n",
       "      <td>0.000000e+00</td>\n",
       "      <td>0.000000e+00</td>\n",
       "    </tr>\n",
       "    <tr>\n",
       "      <th>max</th>\n",
       "      <td>7.430000e+02</td>\n",
       "      <td>9.244552e+07</td>\n",
       "      <td>5.958504e+07</td>\n",
       "      <td>4.958504e+07</td>\n",
       "      <td>3.560159e+08</td>\n",
       "      <td>3.561793e+08</td>\n",
       "      <td>1.000000e+00</td>\n",
       "      <td>1.000000e+00</td>\n",
       "    </tr>\n",
       "  </tbody>\n",
       "</table>\n",
       "</div>"
      ],
      "text/plain": [
       "               step        amount  oldbalanceOrg  newbalanceOrig  \\\n",
       "count  6.362620e+06  6.362620e+06   6.362620e+06    6.362620e+06   \n",
       "mean   2.433972e+02  1.798619e+05   8.338831e+05    8.551137e+05   \n",
       "std    1.423320e+02  6.038582e+05   2.888243e+06    2.924049e+06   \n",
       "min    1.000000e+00  0.000000e+00   0.000000e+00    0.000000e+00   \n",
       "25%    1.560000e+02  1.338957e+04   0.000000e+00    0.000000e+00   \n",
       "50%    2.390000e+02  7.487194e+04   1.420800e+04    0.000000e+00   \n",
       "75%    3.350000e+02  2.087215e+05   1.073152e+05    1.442584e+05   \n",
       "max    7.430000e+02  9.244552e+07   5.958504e+07    4.958504e+07   \n",
       "\n",
       "       oldbalanceDest  newbalanceDest       isFraud  isFlaggedFraud  \n",
       "count    6.362620e+06    6.362620e+06  6.362620e+06    6.362620e+06  \n",
       "mean     1.100702e+06    1.224996e+06  1.290820e-03    2.514687e-06  \n",
       "std      3.399180e+06    3.674129e+06  3.590480e-02    1.585775e-03  \n",
       "min      0.000000e+00    0.000000e+00  0.000000e+00    0.000000e+00  \n",
       "25%      0.000000e+00    0.000000e+00  0.000000e+00    0.000000e+00  \n",
       "50%      1.327057e+05    2.146614e+05  0.000000e+00    0.000000e+00  \n",
       "75%      9.430367e+05    1.111909e+06  0.000000e+00    0.000000e+00  \n",
       "max      3.560159e+08    3.561793e+08  1.000000e+00    1.000000e+00  "
      ]
     },
     "execution_count": 4,
     "metadata": {},
     "output_type": "execute_result"
    }
   ],
   "source": [
    "df.describe()"
   ]
  },
  {
   "cell_type": "code",
   "execution_count": 5,
   "id": "f836d2ba",
   "metadata": {},
   "outputs": [
    {
     "data": {
      "text/html": [
       "<div>\n",
       "<style scoped>\n",
       "    .dataframe tbody tr th:only-of-type {\n",
       "        vertical-align: middle;\n",
       "    }\n",
       "\n",
       "    .dataframe tbody tr th {\n",
       "        vertical-align: top;\n",
       "    }\n",
       "\n",
       "    .dataframe thead th {\n",
       "        text-align: right;\n",
       "    }\n",
       "</style>\n",
       "<table border=\"1\" class=\"dataframe\">\n",
       "  <thead>\n",
       "    <tr style=\"text-align: right;\">\n",
       "      <th></th>\n",
       "      <th>step</th>\n",
       "      <th>type</th>\n",
       "      <th>amount</th>\n",
       "      <th>nameOrig</th>\n",
       "      <th>oldbalanceOrg</th>\n",
       "      <th>newbalanceOrig</th>\n",
       "      <th>nameDest</th>\n",
       "      <th>oldbalanceDest</th>\n",
       "      <th>newbalanceDest</th>\n",
       "      <th>isFraud</th>\n",
       "      <th>isFlaggedFraud</th>\n",
       "    </tr>\n",
       "  </thead>\n",
       "  <tbody>\n",
       "    <tr>\n",
       "      <th>0</th>\n",
       "      <td>1</td>\n",
       "      <td>PAYMENT</td>\n",
       "      <td>9839.64</td>\n",
       "      <td>C1231006815</td>\n",
       "      <td>170136.0</td>\n",
       "      <td>160296.36</td>\n",
       "      <td>M1979787155</td>\n",
       "      <td>0.0</td>\n",
       "      <td>0.0</td>\n",
       "      <td>0</td>\n",
       "      <td>0</td>\n",
       "    </tr>\n",
       "    <tr>\n",
       "      <th>1</th>\n",
       "      <td>1</td>\n",
       "      <td>PAYMENT</td>\n",
       "      <td>1864.28</td>\n",
       "      <td>C1666544295</td>\n",
       "      <td>21249.0</td>\n",
       "      <td>19384.72</td>\n",
       "      <td>M2044282225</td>\n",
       "      <td>0.0</td>\n",
       "      <td>0.0</td>\n",
       "      <td>0</td>\n",
       "      <td>0</td>\n",
       "    </tr>\n",
       "    <tr>\n",
       "      <th>2</th>\n",
       "      <td>1</td>\n",
       "      <td>TRANSFER</td>\n",
       "      <td>181.00</td>\n",
       "      <td>C1305486145</td>\n",
       "      <td>181.0</td>\n",
       "      <td>0.00</td>\n",
       "      <td>C553264065</td>\n",
       "      <td>0.0</td>\n",
       "      <td>0.0</td>\n",
       "      <td>1</td>\n",
       "      <td>0</td>\n",
       "    </tr>\n",
       "    <tr>\n",
       "      <th>3</th>\n",
       "      <td>1</td>\n",
       "      <td>CASH_OUT</td>\n",
       "      <td>181.00</td>\n",
       "      <td>C840083671</td>\n",
       "      <td>181.0</td>\n",
       "      <td>0.00</td>\n",
       "      <td>C38997010</td>\n",
       "      <td>21182.0</td>\n",
       "      <td>0.0</td>\n",
       "      <td>1</td>\n",
       "      <td>0</td>\n",
       "    </tr>\n",
       "    <tr>\n",
       "      <th>4</th>\n",
       "      <td>1</td>\n",
       "      <td>PAYMENT</td>\n",
       "      <td>11668.14</td>\n",
       "      <td>C2048537720</td>\n",
       "      <td>41554.0</td>\n",
       "      <td>29885.86</td>\n",
       "      <td>M1230701703</td>\n",
       "      <td>0.0</td>\n",
       "      <td>0.0</td>\n",
       "      <td>0</td>\n",
       "      <td>0</td>\n",
       "    </tr>\n",
       "  </tbody>\n",
       "</table>\n",
       "</div>"
      ],
      "text/plain": [
       "   step      type    amount     nameOrig  oldbalanceOrg  newbalanceOrig  \\\n",
       "0     1   PAYMENT   9839.64  C1231006815       170136.0       160296.36   \n",
       "1     1   PAYMENT   1864.28  C1666544295        21249.0        19384.72   \n",
       "2     1  TRANSFER    181.00  C1305486145          181.0            0.00   \n",
       "3     1  CASH_OUT    181.00   C840083671          181.0            0.00   \n",
       "4     1   PAYMENT  11668.14  C2048537720        41554.0        29885.86   \n",
       "\n",
       "      nameDest  oldbalanceDest  newbalanceDest  isFraud  isFlaggedFraud  \n",
       "0  M1979787155             0.0             0.0        0               0  \n",
       "1  M2044282225             0.0             0.0        0               0  \n",
       "2   C553264065             0.0             0.0        1               0  \n",
       "3    C38997010         21182.0             0.0        1               0  \n",
       "4  M1230701703             0.0             0.0        0               0  "
      ]
     },
     "execution_count": 5,
     "metadata": {},
     "output_type": "execute_result"
    }
   ],
   "source": [
    "df.head()"
   ]
  },
  {
   "cell_type": "code",
   "execution_count": 6,
   "id": "07cd5cec",
   "metadata": {},
   "outputs": [
    {
     "data": {
      "text/plain": [
       "'Number of cases where transaction originator is not Customer: 0'"
      ]
     },
     "execution_count": 6,
     "metadata": {},
     "output_type": "execute_result"
    }
   ],
   "source": [
    "'Number of cases where transaction originator is not Customer: {}'.format(len(df[df[\"nameOrig\"].str.get(0) != \"C\"]))"
   ]
  },
  {
   "cell_type": "markdown",
   "id": "e489b227",
   "metadata": {},
   "source": [
    "Dataset doesn't have any missing data fields. Balance is missing for Merchant type persons. Merchants only on the Dest side.\n",
    "\n",
    "Let's use this plot from the internet to illustrate how a model is performing."
   ]
  },
  {
   "cell_type": "code",
   "execution_count": 7,
   "id": "d097f8bd",
   "metadata": {},
   "outputs": [],
   "source": [
    "def plot_the_loss_curve(epochs, mae_training, mae_validation):\n",
    "  \"\"\"Plot a curve of loss vs. epoch.\"\"\"\n",
    "\n",
    "  plt.figure()\n",
    "  plt.xlabel(\"Epoch\")\n",
    "  plt.ylabel(\"Root Mean Squared Error\")\n",
    "\n",
    "  plt.plot(epochs[1:], mae_training[1:], label=\"Training Loss\")\n",
    "  plt.plot(epochs[1:], mae_validation[1:], label=\"Validation Loss\")\n",
    "  plt.legend()\n",
    "  \n",
    "  # We're not going to plot the first epoch, since the loss on the first epoch\n",
    "  # is often substantially greater than the loss for other epochs.\n",
    "  merged_mae_lists = mae_training[1:] + mae_validation[1:]\n",
    "  highest_loss = max(merged_mae_lists)\n",
    "  lowest_loss = min(merged_mae_lists)\n",
    "  delta = highest_loss - lowest_loss\n",
    "  print(delta)\n",
    "\n",
    "  top_of_y_axis = highest_loss + (delta * 0.05)\n",
    "  bottom_of_y_axis = lowest_loss - (delta * 0.05)\n",
    "   \n",
    "  plt.ylim([bottom_of_y_axis, top_of_y_axis])\n",
    "  plt.show()\n",
    "\n",
    "def plot_curve(epochs, hist, list_of_metrics):\n",
    "  \"\"\"Plot a curve of one or more classification metrics vs. epoch.\"\"\"\n",
    "  # list_of_metrics should be one of the names shown in:\n",
    "  # https://www.tensorflow.org/tutorials/structured_data/imbalanced_data#define_the_model_and_metrics\n",
    "\n",
    "  plt.figure()\n",
    "  plt.xlabel(\"Epoch\")\n",
    "  plt.ylabel(\"Value\")\n",
    "\n",
    "  for m in list_of_metrics:\n",
    "    x = hist[m]\n",
    "    plt.plot(epochs[1:], x[1:], label=m)\n",
    "\n",
    "  plt.legend()"
   ]
  },
  {
   "cell_type": "markdown",
   "id": "6fe240c4",
   "metadata": {},
   "source": [
    "First lets try very simple linear model. One input variable `amount` and one level in the neural net. Will use `isFraud` as the label."
   ]
  },
  {
   "cell_type": "code",
   "execution_count": 8,
   "id": "07f885c7",
   "metadata": {},
   "outputs": [],
   "source": [
    "X = df[[\"amount\"]]\n",
    "y = df[[\"isFraud\"]]"
   ]
  },
  {
   "cell_type": "code",
   "execution_count": 9,
   "id": "bb570a27",
   "metadata": {},
   "outputs": [
    {
     "data": {
      "text/plain": [
       "'X dtypes: amount    float64\\ndtype: object, y dtypes: isFraud    int64\\ndtype: object'"
      ]
     },
     "execution_count": 9,
     "metadata": {},
     "output_type": "execute_result"
    }
   ],
   "source": [
    "\"X dtypes: {}, y dtypes: {}\".format(X.dtypes,y.dtypes)"
   ]
  },
  {
   "cell_type": "markdown",
   "id": "1d9936f0",
   "metadata": {},
   "source": [
    "Split data into training and valuation set."
   ]
  },
  {
   "cell_type": "code",
   "execution_count": 10,
   "id": "e566661c",
   "metadata": {},
   "outputs": [],
   "source": [
    "X_train, X_test, y_train, y_test = train_test_split(X, y, test_size=0.2, random_state=42)"
   ]
  },
  {
   "cell_type": "markdown",
   "id": "be78847c",
   "metadata": {},
   "source": [
    "Defining simple model using just one layer."
   ]
  },
  {
   "cell_type": "code",
   "execution_count": 11,
   "id": "aca76a59",
   "metadata": {},
   "outputs": [
    {
     "name": "stdout",
     "output_type": "stream",
     "text": [
      "WARNING:tensorflow:From C:\\Users\\T440s\\anaconda3\\Lib\\site-packages\\keras\\src\\backend.py:1398: The name tf.executing_eagerly_outside_functions is deprecated. Please use tf.compat.v1.executing_eagerly_outside_functions instead.\n",
      "\n"
     ]
    }
   ],
   "source": [
    "inputs = tf.keras.Input(shape=(X_train.shape[1],))"
   ]
  },
  {
   "cell_type": "code",
   "execution_count": 12,
   "id": "2d6c8780",
   "metadata": {},
   "outputs": [],
   "source": [
    "dense = tf.keras.layers.Dense(1,activation = 'sigmoid')"
   ]
  },
  {
   "cell_type": "code",
   "execution_count": 13,
   "id": "7be56a87",
   "metadata": {},
   "outputs": [],
   "source": [
    "outputs = dense(inputs)"
   ]
  },
  {
   "cell_type": "code",
   "execution_count": 14,
   "id": "bfa716b9",
   "metadata": {},
   "outputs": [],
   "source": [
    "simple_model = tf.keras.Model(inputs=inputs, outputs=outputs, name=\"simple_model\")"
   ]
  },
  {
   "cell_type": "code",
   "execution_count": 15,
   "id": "040756e8",
   "metadata": {},
   "outputs": [
    {
     "name": "stdout",
     "output_type": "stream",
     "text": [
      "Model: \"simple_model\"\n",
      "_________________________________________________________________\n",
      " Layer (type)                Output Shape              Param #   \n",
      "=================================================================\n",
      " input_1 (InputLayer)        [(None, 1)]               0         \n",
      "                                                                 \n",
      " dense (Dense)               (None, 1)                 2         \n",
      "                                                                 \n",
      "=================================================================\n",
      "Total params: 2 (8.00 Byte)\n",
      "Trainable params: 2 (8.00 Byte)\n",
      "Non-trainable params: 0 (0.00 Byte)\n",
      "_________________________________________________________________\n"
     ]
    }
   ],
   "source": [
    "simple_model.summary()"
   ]
  },
  {
   "cell_type": "code",
   "execution_count": 16,
   "id": "90c51ee0",
   "metadata": {},
   "outputs": [],
   "source": [
    "simple_model.compile(\n",
    "    loss=tf.keras.losses.BinaryCrossentropy(reduction=\"sum_over_batch_size\", name=\"binary_crossentropy\"),\n",
    "    #tf.keras.losses.MeanSquaredError(reduction=\"sum_over_batch_size\", name=\"mean_squared_error\"),#mean_squared_error\n",
    "    optimizer=tf.keras.optimizers.RMSprop(learning_rate = 0.01),\n",
    "    metrics=[tf.keras.metrics.RootMeanSquaredError(name=\"root_mean_squared_error\"),\n",
    "            tf.keras.metrics.Recall(name=\"recall\"),\n",
    "            tf.keras.metrics.Precision(name=\"precision\")]#[tf.keras.metrics.SparseCategoricalAccuracy()],\n",
    ")"
   ]
  },
  {
   "cell_type": "markdown",
   "id": "da183434",
   "metadata": {},
   "source": [
    "Running the model for 10 epochs. In this case I don't expect it to do well, because amount is not enough, but it's good to get the initial setup running."
   ]
  },
  {
   "cell_type": "code",
   "execution_count": 19,
   "id": "fdfb3065",
   "metadata": {
    "scrolled": true
   },
   "outputs": [
    {
     "name": "stdout",
     "output_type": "stream",
     "text": [
      "Epoch 1/10\n",
      "WARNING:tensorflow:From C:\\Users\\T440s\\anaconda3\\Lib\\site-packages\\keras\\src\\utils\\tf_utils.py:492: The name tf.ragged.RaggedTensorValue is deprecated. Please use tf.compat.v1.ragged.RaggedTensorValue instead.\n",
      "\n",
      "15907/15907 [==============================] - 33s 2ms/step - loss: 65.9741 - root_mean_squared_error: 0.1686 - recall: 0.0298 - precision: 0.0014 - val_loss: 43.9474 - val_root_mean_squared_error: 0.0357 - val_recall: 0.0000e+00 - val_precision: 0.0000e+00\n",
      "Epoch 2/10\n",
      "15907/15907 [==============================] - 32s 2ms/step - loss: 68.8670 - root_mean_squared_error: 0.1629 - recall: 0.0342 - precision: 0.0017 - val_loss: 5.3604 - val_root_mean_squared_error: 0.0357 - val_recall: 0.0000e+00 - val_precision: 0.0000e+00\n",
      "Epoch 3/10\n",
      "15907/15907 [==============================] - 60s 4ms/step - loss: 67.0786 - root_mean_squared_error: 0.1578 - recall: 0.0287 - precision: 0.0016 - val_loss: 26.7695 - val_root_mean_squared_error: 0.0357 - val_recall: 0.0000e+00 - val_precision: 0.0000e+00\n",
      "Epoch 4/10\n",
      "15907/15907 [==============================] - 51s 3ms/step - loss: 67.2667 - root_mean_squared_error: 0.1553 - recall: 0.0279 - precision: 0.0016 - val_loss: 20.6916 - val_root_mean_squared_error: 0.0357 - val_recall: 0.0000e+00 - val_precision: 0.0000e+00\n",
      "Epoch 5/10\n",
      "15907/15907 [==============================] - 45s 3ms/step - loss: 65.7551 - root_mean_squared_error: 0.1514 - recall: 0.0304 - precision: 0.0018 - val_loss: 0.0816 - val_root_mean_squared_error: 0.0403 - val_recall: 0.0000e+00 - val_precision: 0.0000e+00\n",
      "Epoch 6/10\n",
      "15907/15907 [==============================] - 34s 2ms/step - loss: 67.9752 - root_mean_squared_error: 0.1517 - recall: 0.0317 - precision: 0.0019 - val_loss: 32.6558 - val_root_mean_squared_error: 0.0357 - val_recall: 0.0000e+00 - val_precision: 0.0000e+00\n",
      "Epoch 7/10\n",
      "15907/15907 [==============================] - 31s 2ms/step - loss: 68.6942 - root_mean_squared_error: 0.1484 - recall: 0.0260 - precision: 0.0016 - val_loss: 3.0077 - val_root_mean_squared_error: 0.0357 - val_recall: 0.0000e+00 - val_precision: 0.0000e+00\n",
      "Epoch 8/10\n",
      "15907/15907 [==============================] - 31s 2ms/step - loss: 67.4169 - root_mean_squared_error: 0.1484 - recall: 0.0217 - precision: 0.0014 - val_loss: 50.7205 - val_root_mean_squared_error: 0.0357 - val_recall: 0.0000e+00 - val_precision: 0.0000e+00\n",
      "Epoch 9/10\n",
      "15907/15907 [==============================] - 28s 2ms/step - loss: 68.1114 - root_mean_squared_error: 0.1452 - recall: 0.0285 - precision: 0.0019 - val_loss: 7.8690 - val_root_mean_squared_error: 0.0357 - val_recall: 0.0000e+00 - val_precision: 0.0000e+00\n",
      "Epoch 10/10\n",
      "15907/15907 [==============================] - 28s 2ms/step - loss: 67.2803 - root_mean_squared_error: 0.1436 - recall: 0.0234 - precision: 0.0016 - val_loss: 28.8270 - val_root_mean_squared_error: 0.0357 - val_recall: 0.0000e+00 - val_precision: 0.0000e+00\n"
     ]
    }
   ],
   "source": [
    "history = simple_model.fit(X_train, y_train, batch_size=256, epochs=10, validation_split=0.2)"
   ]
  },
  {
   "cell_type": "markdown",
   "id": "67216008",
   "metadata": {},
   "source": [
    "Lets see how the model is performing based on the defined metrics."
   ]
  },
  {
   "cell_type": "code",
   "execution_count": 20,
   "id": "8b4c8f1a",
   "metadata": {},
   "outputs": [
    {
     "data": {
      "image/png": "[encoded data removed]",
      "text/plain": [
       "<Figure size 640x480 with 1 Axes>"
      ]
     },
     "metadata": {},
     "output_type": "display_data"
    }
   ],
   "source": [
    "list_of_metrics_to_plot = ['loss','val_loss','precision','recall','val_precision','val_recall']\n",
    "plot_curve(history.epoch, pd.DataFrame(history.history), list_of_metrics_to_plot)"
   ]
  },
  {
   "cell_type": "markdown",
   "id": "929ccd98",
   "metadata": {},
   "source": [
    "Based on these results, it seems like the model is predicting every value to be very close to zero. This is understandable, as our model is very unbalanced. The model doesn't seem to be getting better with time, as it can't find a better approach than just predicting everything as close to 0 just using amount. Valuation loss has a lot of randomness, probably because small changes in weights contribute to large changes in FN loss."
   ]
  },
  {
   "cell_type": "code",
   "execution_count": 21,
   "id": "df9c03dd",
   "metadata": {},
   "outputs": [
    {
     "name": "stdout",
     "output_type": "stream",
     "text": [
      "39767/39767 - 45s - loss: 27.3434 - root_mean_squared_error: 0.0357 - recall: 0.0000e+00 - precision: 0.0000e+00 - 45s/epoch - 1ms/step\n",
      "Test loss: 27.343358993530273\n",
      "Test root mean squared error: 0.03567997366189957\n"
     ]
    }
   ],
   "source": [
    "test_scores = simple_model.evaluate(X_test, y_test, verbose=2)\n",
    "print(\"Test loss:\", test_scores[0])\n",
    "print(\"Test root mean squared error:\", test_scores[1])"
   ]
  },
  {
   "cell_type": "markdown",
   "id": "6b1f2865",
   "metadata": {},
   "source": [
    "### Feature engineering\n",
    "\n",
    "Next up, we'll be adding additional parameters to our model, but for that we have to change them a little bit.\n",
    "\n",
    "##### `step`\n",
    "We will leave this out for now, as it seems to be a strong but not most realistic predictor (most of the fraud takes place in low steps.\n",
    "\n",
    "##### `type`\n",
    "This categorical value needs to be formated to use in the model. We'll use one hot encoding.\n",
    "\n",
    "##### `amount`\n",
    "As we now have other attributes in the model, `amount` should be normalised.\n",
    "\n",
    "##### `nameOrig`\n",
    "We'll discard this for now.\n",
    "\n",
    "##### `oldbalanceOrg`\n",
    "Will rename it to  `oldbalanceOrig` and normalize.\n",
    "\n",
    "##### `newbalanceOrig`\n",
    "Have to normalize this.\n",
    "\n",
    "##### `nameDest`\n",
    "We'll discard this for now, but calculate new features `customerDest` (1 if C) and `merchantDest` (1 if M).\n",
    "\n",
    "##### `oldbalanceDest`\n",
    "Have to normalize this. As the balance is 0 for all merchants, as it is unknown, other substitutes should be considered.\n",
    "\n",
    "##### `newbalanceDest`\n",
    "Have to normalize this. As the balance is 0 for all merchants, as it is unknown, other substitutes should be considered.\n",
    "\n",
    "\n",
    "Again, will use `isFraud` as the label."
   ]
  },
  {
   "cell_type": "code",
   "execution_count": 22,
   "id": "1b5f307b",
   "metadata": {},
   "outputs": [],
   "source": [
    "X = df[[\"type\",\"amount\",\"oldbalanceOrg\",\"newbalanceOrig\",\"nameDest\",\"oldbalanceDest\",\"newbalanceDest\"]]\n",
    "X = X.rename(columns={\"oldbalanceOrg\": \"oldbalanceOrig\"})\n",
    "X[\"customerDest\"] = (X[\"nameDest\"].str.get(0) == \"C\").astype(float)\n",
    "X[\"merchantDest\"] = (X[\"nameDest\"].str.get(0) == \"M\").astype(float)\n",
    "X = X.drop(columns=[\"nameDest\"])\n",
    "y = df[[\"isFraud\"]]"
   ]
  },
  {
   "cell_type": "code",
   "execution_count": 23,
   "id": "de06c099",
   "metadata": {},
   "outputs": [
    {
     "data": {
      "text/html": [
       "<div>\n",
       "<style scoped>\n",
       "    .dataframe tbody tr th:only-of-type {\n",
       "        vertical-align: middle;\n",
       "    }\n",
       "\n",
       "    .dataframe tbody tr th {\n",
       "        vertical-align: top;\n",
       "    }\n",
       "\n",
       "    .dataframe thead th {\n",
       "        text-align: right;\n",
       "    }\n",
       "</style>\n",
       "<table border=\"1\" class=\"dataframe\">\n",
       "  <thead>\n",
       "    <tr style=\"text-align: right;\">\n",
       "      <th></th>\n",
       "      <th>type</th>\n",
       "      <th>amount</th>\n",
       "      <th>oldbalanceOrig</th>\n",
       "      <th>newbalanceOrig</th>\n",
       "      <th>oldbalanceDest</th>\n",
       "      <th>newbalanceDest</th>\n",
       "      <th>customerDest</th>\n",
       "      <th>merchantDest</th>\n",
       "    </tr>\n",
       "  </thead>\n",
       "  <tbody>\n",
       "    <tr>\n",
       "      <th>0</th>\n",
       "      <td>PAYMENT</td>\n",
       "      <td>9839.64</td>\n",
       "      <td>170136.0</td>\n",
       "      <td>160296.36</td>\n",
       "      <td>0.0</td>\n",
       "      <td>0.0</td>\n",
       "      <td>0.0</td>\n",
       "      <td>1.0</td>\n",
       "    </tr>\n",
       "    <tr>\n",
       "      <th>1</th>\n",
       "      <td>PAYMENT</td>\n",
       "      <td>1864.28</td>\n",
       "      <td>21249.0</td>\n",
       "      <td>19384.72</td>\n",
       "      <td>0.0</td>\n",
       "      <td>0.0</td>\n",
       "      <td>0.0</td>\n",
       "      <td>1.0</td>\n",
       "    </tr>\n",
       "    <tr>\n",
       "      <th>2</th>\n",
       "      <td>TRANSFER</td>\n",
       "      <td>181.00</td>\n",
       "      <td>181.0</td>\n",
       "      <td>0.00</td>\n",
       "      <td>0.0</td>\n",
       "      <td>0.0</td>\n",
       "      <td>1.0</td>\n",
       "      <td>0.0</td>\n",
       "    </tr>\n",
       "    <tr>\n",
       "      <th>3</th>\n",
       "      <td>CASH_OUT</td>\n",
       "      <td>181.00</td>\n",
       "      <td>181.0</td>\n",
       "      <td>0.00</td>\n",
       "      <td>21182.0</td>\n",
       "      <td>0.0</td>\n",
       "      <td>1.0</td>\n",
       "      <td>0.0</td>\n",
       "    </tr>\n",
       "    <tr>\n",
       "      <th>4</th>\n",
       "      <td>PAYMENT</td>\n",
       "      <td>11668.14</td>\n",
       "      <td>41554.0</td>\n",
       "      <td>29885.86</td>\n",
       "      <td>0.0</td>\n",
       "      <td>0.0</td>\n",
       "      <td>0.0</td>\n",
       "      <td>1.0</td>\n",
       "    </tr>\n",
       "  </tbody>\n",
       "</table>\n",
       "</div>"
      ],
      "text/plain": [
       "       type    amount  oldbalanceOrig  newbalanceOrig  oldbalanceDest  \\\n",
       "0   PAYMENT   9839.64        170136.0       160296.36             0.0   \n",
       "1   PAYMENT   1864.28         21249.0        19384.72             0.0   \n",
       "2  TRANSFER    181.00           181.0            0.00             0.0   \n",
       "3  CASH_OUT    181.00           181.0            0.00         21182.0   \n",
       "4   PAYMENT  11668.14         41554.0        29885.86             0.0   \n",
       "\n",
       "   newbalanceDest  customerDest  merchantDest  \n",
       "0             0.0           0.0           1.0  \n",
       "1             0.0           0.0           1.0  \n",
       "2             0.0           1.0           0.0  \n",
       "3             0.0           1.0           0.0  \n",
       "4             0.0           0.0           1.0  "
      ]
     },
     "execution_count": 23,
     "metadata": {},
     "output_type": "execute_result"
    }
   ],
   "source": [
    "X.head()"
   ]
  },
  {
   "cell_type": "code",
   "execution_count": 24,
   "id": "ebad99c9",
   "metadata": {
    "scrolled": true
   },
   "outputs": [],
   "source": [
    "one_hot_encoder = OneHotEncoder(sparse_output=False)\n",
    "one_hot_encoder.fit(X[[\"type\"]])\n",
    "#one_hot_encoder.fit(X)\n",
    "\n",
    "colors_df_encoded = one_hot_encoder.transform(X[[\"type\"]])\n",
    "colors_df_encoded = pd.DataFrame(data=colors_df_encoded, columns=one_hot_encoder.categories_)"
   ]
  },
  {
   "cell_type": "code",
   "execution_count": 25,
   "id": "44872b01",
   "metadata": {},
   "outputs": [
    {
     "data": {
      "text/html": [
       "<div>\n",
       "<style scoped>\n",
       "    .dataframe tbody tr th:only-of-type {\n",
       "        vertical-align: middle;\n",
       "    }\n",
       "\n",
       "    .dataframe tbody tr th {\n",
       "        vertical-align: top;\n",
       "    }\n",
       "\n",
       "    .dataframe thead th {\n",
       "        text-align: right;\n",
       "    }\n",
       "</style>\n",
       "<table border=\"1\" class=\"dataframe\">\n",
       "  <thead>\n",
       "    <tr style=\"text-align: right;\">\n",
       "      <th></th>\n",
       "      <th>amount</th>\n",
       "      <th>oldbalanceOrig</th>\n",
       "      <th>newbalanceOrig</th>\n",
       "      <th>oldbalanceDest</th>\n",
       "      <th>newbalanceDest</th>\n",
       "      <th>customerDest</th>\n",
       "      <th>merchantDest</th>\n",
       "      <th>(CASH_IN,)</th>\n",
       "      <th>(CASH_OUT,)</th>\n",
       "      <th>(DEBIT,)</th>\n",
       "      <th>(PAYMENT,)</th>\n",
       "      <th>(TRANSFER,)</th>\n",
       "    </tr>\n",
       "  </thead>\n",
       "  <tbody>\n",
       "    <tr>\n",
       "      <th>0</th>\n",
       "      <td>9839.64</td>\n",
       "      <td>170136.0</td>\n",
       "      <td>160296.36</td>\n",
       "      <td>0.0</td>\n",
       "      <td>0.0</td>\n",
       "      <td>0.0</td>\n",
       "      <td>1.0</td>\n",
       "      <td>0.0</td>\n",
       "      <td>0.0</td>\n",
       "      <td>0.0</td>\n",
       "      <td>1.0</td>\n",
       "      <td>0.0</td>\n",
       "    </tr>\n",
       "    <tr>\n",
       "      <th>1</th>\n",
       "      <td>1864.28</td>\n",
       "      <td>21249.0</td>\n",
       "      <td>19384.72</td>\n",
       "      <td>0.0</td>\n",
       "      <td>0.0</td>\n",
       "      <td>0.0</td>\n",
       "      <td>1.0</td>\n",
       "      <td>0.0</td>\n",
       "      <td>0.0</td>\n",
       "      <td>0.0</td>\n",
       "      <td>1.0</td>\n",
       "      <td>0.0</td>\n",
       "    </tr>\n",
       "    <tr>\n",
       "      <th>2</th>\n",
       "      <td>181.00</td>\n",
       "      <td>181.0</td>\n",
       "      <td>0.00</td>\n",
       "      <td>0.0</td>\n",
       "      <td>0.0</td>\n",
       "      <td>1.0</td>\n",
       "      <td>0.0</td>\n",
       "      <td>0.0</td>\n",
       "      <td>0.0</td>\n",
       "      <td>0.0</td>\n",
       "      <td>0.0</td>\n",
       "      <td>1.0</td>\n",
       "    </tr>\n",
       "    <tr>\n",
       "      <th>3</th>\n",
       "      <td>181.00</td>\n",
       "      <td>181.0</td>\n",
       "      <td>0.00</td>\n",
       "      <td>21182.0</td>\n",
       "      <td>0.0</td>\n",
       "      <td>1.0</td>\n",
       "      <td>0.0</td>\n",
       "      <td>0.0</td>\n",
       "      <td>1.0</td>\n",
       "      <td>0.0</td>\n",
       "      <td>0.0</td>\n",
       "      <td>0.0</td>\n",
       "    </tr>\n",
       "    <tr>\n",
       "      <th>4</th>\n",
       "      <td>11668.14</td>\n",
       "      <td>41554.0</td>\n",
       "      <td>29885.86</td>\n",
       "      <td>0.0</td>\n",
       "      <td>0.0</td>\n",
       "      <td>0.0</td>\n",
       "      <td>1.0</td>\n",
       "      <td>0.0</td>\n",
       "      <td>0.0</td>\n",
       "      <td>0.0</td>\n",
       "      <td>1.0</td>\n",
       "      <td>0.0</td>\n",
       "    </tr>\n",
       "  </tbody>\n",
       "</table>\n",
       "</div>"
      ],
      "text/plain": [
       "     amount  oldbalanceOrig  newbalanceOrig  oldbalanceDest  newbalanceDest  \\\n",
       "0   9839.64        170136.0       160296.36             0.0             0.0   \n",
       "1   1864.28         21249.0        19384.72             0.0             0.0   \n",
       "2    181.00           181.0            0.00             0.0             0.0   \n",
       "3    181.00           181.0            0.00         21182.0             0.0   \n",
       "4  11668.14         41554.0        29885.86             0.0             0.0   \n",
       "\n",
       "   customerDest  merchantDest  (CASH_IN,)  (CASH_OUT,)  (DEBIT,)  (PAYMENT,)  \\\n",
       "0           0.0           1.0         0.0          0.0       0.0         1.0   \n",
       "1           0.0           1.0         0.0          0.0       0.0         1.0   \n",
       "2           1.0           0.0         0.0          0.0       0.0         0.0   \n",
       "3           1.0           0.0         0.0          1.0       0.0         0.0   \n",
       "4           0.0           1.0         0.0          0.0       0.0         1.0   \n",
       "\n",
       "   (TRANSFER,)  \n",
       "0          0.0  \n",
       "1          0.0  \n",
       "2          1.0  \n",
       "3          0.0  \n",
       "4          0.0  "
      ]
     },
     "execution_count": 25,
     "metadata": {},
     "output_type": "execute_result"
    }
   ],
   "source": [
    "X = pd.concat([X, colors_df_encoded], axis=1)\n",
    "X = X.drop(columns=[\"type\"])\n",
    "X.head()"
   ]
  },
  {
   "cell_type": "code",
   "execution_count": null,
   "id": "e972e8d2",
   "metadata": {},
   "outputs": [],
   "source": [
    "X_train, X_test, y_train, y_test = train_test_split(X, y, test_size=0.2, random_state=420)"
   ]
  },
  {
   "cell_type": "code",
   "execution_count": null,
   "id": "6305afff",
   "metadata": {},
   "outputs": [],
   "source": [
    "amount_a = np.mean(X_train[\"amount\"])\n",
    "amount_sd = np.std(X_train[\"amount\"])\n",
    "newBalanceOrig_a = np.mean(X_train[\"newbalanceOrig\"])\n",
    "newBalanceOrig_sd = np.std(X_train[\"newbalanceOrig\"])\n",
    "oldBalanceOrig_a = np.mean(X_train[\"oldbalanceOrig\"])\n",
    "oldBalanceOrig_sd = np.std(X_train[\"oldbalanceOrig\"])\n",
    "newBalanceDest_a = np.mean(X_train[\"newbalanceDest\"])\n",
    "newBalanceDest_sd = np.std(X_train[\"newbalanceDest\"])\n",
    "oldBalanceDest_a = np.mean(X_train[\"oldbalanceDest\"])\n",
    "oldBalanceDest_sd = np.std(X_train[\"oldbalanceDest\"])\n",
    "\n",
    "print(\"\"\"Avg amount: {:.2f}, Std amount {:.2f}\n",
    "Avg newBalanceOrig: {:.2f}, Std newBalanceOrig: {:.2f}\n",
    "Avg oldBalanceOrig: {:.2f}, Std oldBalanceOrig: {:.2f}\n",
    "Avg newBalanceDest: {:.2f}, Std newBalanceDest: {:.2f}\n",
    "Avg oldBalanceDest: {:.2f}, Std oldBalanceDest: {:.2f}\n",
    "\"\"\".format(amount_a,amount_sd,\n",
    "           newBalanceOrig_a,newBalanceOrig_sd,\n",
    "           oldBalanceOrig_a,oldBalanceOrig_sd,\n",
    "           newBalanceDest_a,newBalanceDest_sd,\n",
    "           oldBalanceDest_a,oldBalanceDest_sd))"
   ]
  },
  {
   "cell_type": "markdown",
   "id": "0fb1e2d2",
   "metadata": {},
   "source": [
    "Lets define a function that normalises our variables so that we can use it later for testing."
   ]
  },
  {
   "cell_type": "code",
   "execution_count": null,
   "id": "20d9d9c8",
   "metadata": {},
   "outputs": [],
   "source": [
    "#We'll ignore the 0 in place of missing values for now and come back to it later.\n",
    "def normalise_X (X):\n",
    "    X[\"amount\"] = (X[\"amount\"]-amount_a)/amount_a\n",
    "    X[\"newbalanceOrig\"] = (X[\"newbalanceOrig\"]-newBalanceOrig_a)/newBalanceOrig_sd\n",
    "    X[\"oldbalanceOrig\"] = (X[\"oldbalanceOrig\"]-oldBalanceOrig_a)/oldBalanceOrig_sd\n",
    "    X[\"newbalanceDest\"] = (X[\"newbalanceDest\"]-newBalanceDest_a)/newBalanceDest_sd\n",
    "    X[\"oldbalanceDest\"] = (X[\"oldbalanceDest\"]-oldBalanceDest_a)/oldBalanceDest_sd\n",
    "    return (X)"
   ]
  },
  {
   "cell_type": "code",
   "execution_count": null,
   "id": "57cc4b1d",
   "metadata": {},
   "outputs": [],
   "source": [
    "X_train = normalise_X(X_train)"
   ]
  },
  {
   "cell_type": "markdown",
   "id": "a97aae70",
   "metadata": {},
   "source": [
    "Lets try to use a model analogous to the `simple_model` we used earlier to see the effects new attributes have."
   ]
  },
  {
   "cell_type": "code",
   "execution_count": null,
   "id": "3fda78f8",
   "metadata": {
    "scrolled": true
   },
   "outputs": [],
   "source": [
    "inputs = tf.keras.Input(shape=(X_train.shape[1],))\n",
    "dense = tf.keras.layers.Dense(1,activation = 'sigmoid')\n",
    "outputs = dense(inputs)\n",
    "simple_model = tf.keras.Model(inputs=inputs, outputs=outputs, name=\"simple_model\")\n",
    "simple_model.compile(\n",
    "    loss=tf.keras.losses.BinaryCrossentropy(reduction=\"sum_over_batch_size\", name=\"binary_crossentropy\"),\n",
    "    optimizer=tf.keras.optimizers.RMSprop(learning_rate = 0.01),\n",
    "    metrics=[tf.keras.metrics.RootMeanSquaredError(name=\"root_mean_squared_error\"),\n",
    "            tf.keras.metrics.Recall(name=\"recall\"),\n",
    "            tf.keras.metrics.Precision(name=\"precision\")]\n",
    ")\n",
    "simple_model.summary()"
   ]
  },
  {
   "cell_type": "code",
   "execution_count": null,
   "id": "468e333b",
   "metadata": {},
   "outputs": [],
   "source": [
    "history = simple_model.fit(X_train, y_train, batch_size=256, epochs=10, validation_split=0.2)"
   ]
  },
  {
   "cell_type": "code",
   "execution_count": 307,
   "id": "5f86bd9a",
   "metadata": {},
   "outputs": [
    {
     "data": {
      "image/png": "[encoded data removed]",
      "text/plain": [
       "<Figure size 640x480 with 1 Axes>"
      ]
     },
     "metadata": {},
     "output_type": "display_data"
    }
   ],
   "source": [
    "list_of_metrics_to_plot = ['loss','val_loss','precision','recall','val_precision','val_recall']\n",
    "plot_curve(history.epoch, pd.DataFrame(history.history), list_of_metrics_to_plot)"
   ]
  },
  {
   "cell_type": "code",
   "execution_count": 31,
   "id": "f282ca56",
   "metadata": {},
   "outputs": [
    {
     "name": "stdout",
     "output_type": "stream",
     "text": [
      "39767/39767 - 48s - loss: 0.8070 - root_mean_squared_error: 0.5548 - recall: 0.3052 - precision: 5.7998e-04 - 48s/epoch - 1ms/step\n",
      "Test loss: 0.806956946849823\n",
      "Test root mean squared error: 0.5548227429389954\n"
     ]
    }
   ],
   "source": [
    "test_scores = simple_model.evaluate(normalise_X(X_test), y_test, verbose=2)\n",
    "print(\"Test loss:\", test_scores[0])\n",
    "print(\"Test root mean squared error:\", test_scores[1])"
   ]
  },
  {
   "cell_type": "markdown",
   "id": "f194c152",
   "metadata": {},
   "source": [
    "Compared to previous model, loss has come down significantly, from 44.583 to 0.125, but we can see that precision and recall are still 0, which means the model is still predicting everything as zero. Presumably the estimated label is just higher.\n",
    "\n",
    "To combat that, we should reduce the bias in training data. As there are quite few positive examples but a lot of data overall, it seems a good start to try undersampling."
   ]
  },
  {
   "cell_type": "code",
   "execution_count": 35,
   "id": "afecbd0f",
   "metadata": {},
   "outputs": [
    {
     "name": "stdout",
     "output_type": "stream",
     "text": [
      "Examples:\n",
      "    Total: 1272524\n",
      "    Positive: 1681 (0.13% of total)\n",
      "\n"
     ]
    }
   ],
   "source": [
    "neg, pos = np.bincount(y_test[\"isFraud\"])\n",
    "total = neg + pos\n",
    "print(\"Examples:\\n    Total: {}\\n    Positive: {} ({:.2f}% of total)\\n\".format(\n",
    "    total, pos, 100 * pos / total))"
   ]
  },
  {
   "cell_type": "markdown",
   "id": "8b4f83a7",
   "metadata": {},
   "source": [
    "We'll try to undersample negative examples so that positive examples make up about 10%."
   ]
  },
  {
   "cell_type": "code",
   "execution_count": 85,
   "id": "53cc3ee4",
   "metadata": {},
   "outputs": [
    {
     "data": {
      "text/plain": [
       "0.01567384495776396"
      ]
     },
     "execution_count": 85,
     "metadata": {},
     "output_type": "execute_result"
    }
   ],
   "source": [
    "(9*pos)/total"
   ]
  },
  {
   "cell_type": "code",
   "execution_count": 89,
   "id": "4d62b055",
   "metadata": {},
   "outputs": [
    {
     "ename": "ModuleNotFoundError",
     "evalue": "No module named 'RandomUnderSampler'",
     "output_type": "error",
     "traceback": [
      "\u001b[1;31m---------------------------------------------------------------------------\u001b[0m",
      "\u001b[1;31mModuleNotFoundError\u001b[0m                       Traceback (most recent call last)",
      "Cell \u001b[1;32mIn[89], line 1\u001b[0m\n\u001b[1;32m----> 1\u001b[0m \u001b[38;5;28;01mimport\u001b[39;00m \u001b[38;5;21;01mRandomUnderSampler\u001b[39;00m\n",
      "\u001b[1;31mModuleNotFoundError\u001b[0m: No module named 'RandomUnderSampler'"
     ]
    }
   ],
   "source": [
    "import RandomUnderSampler\n",
    "#from imblearn.under_sampling import RandomUnderSampler"
   ]
  },
  {
   "cell_type": "code",
   "execution_count": 75,
   "id": "cb48095d",
   "metadata": {},
   "outputs": [],
   "source": [
    "y_train_us = y_train.copy()\n",
    "X_train_us = X_train.copy()\n",
    "y_train_us[\"RowID\"] = y_train_us.index\n",
    "X_train_us[\"RowID\"] = X_train_us.index\n",
    "y_train_us_neg = y_train_us[y_train_us[\"isFraud\"] == 0].sample(frac=(9*pos)/total, random_state=42)\n",
    "\n",
    "y_train_us = pd.concat([y_train_us[y_train_us[\"isFraud\"] == 1], y_train_us_neg], ignore_index=True)\n",
    "X_train_us = X_train_us.merge(y_train_us, on=\"RowID\", how=\"inner\").drop(columns=[\"RowID\",\"isFraud\"]).copy()\n",
    "y_train_us = y_train_us.drop(columns=[\"RowID\"]).copy()"
   ]
  },
  {
   "cell_type": "code",
   "execution_count": 76,
   "id": "6400e5f1",
   "metadata": {},
   "outputs": [
    {
     "name": "stdout",
     "output_type": "stream",
     "text": [
      "Examples:\n",
      "    Total: 3750707\n",
      "    Positive: 6532 (0.17% of total)\n",
      "\n"
     ]
    }
   ],
   "source": [
    "neg, pos = np.bincount(y_train_us[\"isFraud\"])\n",
    "total = neg + pos\n",
    "print(\"Examples:\\n    Total: {}\\n    Positive: {} ({:.2f}% of total)\\n\".format(\n",
    "    total, pos, 100 * pos / total))"
   ]
  },
  {
   "cell_type": "code",
   "execution_count": 77,
   "id": "15b71776",
   "metadata": {},
   "outputs": [
    {
     "data": {
      "text/html": [
       "<div>\n",
       "<style scoped>\n",
       "    .dataframe tbody tr th:only-of-type {\n",
       "        vertical-align: middle;\n",
       "    }\n",
       "\n",
       "    .dataframe tbody tr th {\n",
       "        vertical-align: top;\n",
       "    }\n",
       "\n",
       "    .dataframe thead th {\n",
       "        text-align: right;\n",
       "    }\n",
       "</style>\n",
       "<table border=\"1\" class=\"dataframe\">\n",
       "  <thead>\n",
       "    <tr style=\"text-align: right;\">\n",
       "      <th></th>\n",
       "      <th>amount</th>\n",
       "      <th>oldbalanceOrig</th>\n",
       "      <th>newbalanceOrig</th>\n",
       "      <th>oldbalanceDest</th>\n",
       "      <th>newbalanceDest</th>\n",
       "      <th>customerDest</th>\n",
       "      <th>merchantDest</th>\n",
       "      <th>(CASH_IN,)</th>\n",
       "      <th>(CASH_OUT,)</th>\n",
       "      <th>(DEBIT,)</th>\n",
       "      <th>(PAYMENT,)</th>\n",
       "      <th>(TRANSFER,)</th>\n",
       "    </tr>\n",
       "  </thead>\n",
       "  <tbody>\n",
       "    <tr>\n",
       "      <th>0</th>\n",
       "      <td>-0.973199</td>\n",
       "      <td>-0.141930</td>\n",
       "      <td>-0.149099</td>\n",
       "      <td>-0.323933</td>\n",
       "      <td>-0.333565</td>\n",
       "      <td>0.0</td>\n",
       "      <td>1.0</td>\n",
       "      <td>0.0</td>\n",
       "      <td>0.0</td>\n",
       "      <td>0.0</td>\n",
       "      <td>1.0</td>\n",
       "      <td>0.0</td>\n",
       "    </tr>\n",
       "    <tr>\n",
       "      <th>1</th>\n",
       "      <td>-0.873019</td>\n",
       "      <td>-0.283929</td>\n",
       "      <td>-0.292583</td>\n",
       "      <td>-0.201644</td>\n",
       "      <td>-0.214182</td>\n",
       "      <td>1.0</td>\n",
       "      <td>0.0</td>\n",
       "      <td>0.0</td>\n",
       "      <td>0.0</td>\n",
       "      <td>0.0</td>\n",
       "      <td>0.0</td>\n",
       "      <td>1.0</td>\n",
       "    </tr>\n",
       "    <tr>\n",
       "      <th>2</th>\n",
       "      <td>-0.235675</td>\n",
       "      <td>-0.288862</td>\n",
       "      <td>-0.292583</td>\n",
       "      <td>-0.213712</td>\n",
       "      <td>-0.194171</td>\n",
       "      <td>1.0</td>\n",
       "      <td>0.0</td>\n",
       "      <td>0.0</td>\n",
       "      <td>1.0</td>\n",
       "      <td>0.0</td>\n",
       "      <td>0.0</td>\n",
       "      <td>0.0</td>\n",
       "    </tr>\n",
       "    <tr>\n",
       "      <th>3</th>\n",
       "      <td>-0.855080</td>\n",
       "      <td>-0.288862</td>\n",
       "      <td>-0.292583</td>\n",
       "      <td>-0.323933</td>\n",
       "      <td>-0.333565</td>\n",
       "      <td>0.0</td>\n",
       "      <td>1.0</td>\n",
       "      <td>0.0</td>\n",
       "      <td>0.0</td>\n",
       "      <td>0.0</td>\n",
       "      <td>1.0</td>\n",
       "      <td>0.0</td>\n",
       "    </tr>\n",
       "    <tr>\n",
       "      <th>4</th>\n",
       "      <td>-0.752390</td>\n",
       "      <td>-0.264737</td>\n",
       "      <td>-0.283970</td>\n",
       "      <td>-0.134450</td>\n",
       "      <td>-0.146097</td>\n",
       "      <td>1.0</td>\n",
       "      <td>0.0</td>\n",
       "      <td>0.0</td>\n",
       "      <td>1.0</td>\n",
       "      <td>0.0</td>\n",
       "      <td>0.0</td>\n",
       "      <td>0.0</td>\n",
       "    </tr>\n",
       "  </tbody>\n",
       "</table>\n",
       "</div>"
      ],
      "text/plain": [
       "     amount  oldbalanceOrig  newbalanceOrig  oldbalanceDest  newbalanceDest  \\\n",
       "0 -0.973199       -0.141930       -0.149099       -0.323933       -0.333565   \n",
       "1 -0.873019       -0.283929       -0.292583       -0.201644       -0.214182   \n",
       "2 -0.235675       -0.288862       -0.292583       -0.213712       -0.194171   \n",
       "3 -0.855080       -0.288862       -0.292583       -0.323933       -0.333565   \n",
       "4 -0.752390       -0.264737       -0.283970       -0.134450       -0.146097   \n",
       "\n",
       "   customerDest  merchantDest  (CASH_IN,)  (CASH_OUT,)  (DEBIT,)  (PAYMENT,)  \\\n",
       "0           0.0           1.0         0.0          0.0       0.0         1.0   \n",
       "1           1.0           0.0         0.0          0.0       0.0         0.0   \n",
       "2           1.0           0.0         0.0          1.0       0.0         0.0   \n",
       "3           0.0           1.0         0.0          0.0       0.0         1.0   \n",
       "4           1.0           0.0         0.0          1.0       0.0         0.0   \n",
       "\n",
       "   (TRANSFER,)  \n",
       "0          0.0  \n",
       "1          1.0  \n",
       "2          0.0  \n",
       "3          0.0  \n",
       "4          0.0  "
      ]
     },
     "execution_count": 77,
     "metadata": {},
     "output_type": "execute_result"
    }
   ],
   "source": [
    "X_train_us.head()"
   ]
  },
  {
   "cell_type": "code",
   "execution_count": 81,
   "id": "e6926370",
   "metadata": {},
   "outputs": [
    {
     "data": {
      "text/html": [
       "<div>\n",
       "<style scoped>\n",
       "    .dataframe tbody tr th:only-of-type {\n",
       "        vertical-align: middle;\n",
       "    }\n",
       "\n",
       "    .dataframe tbody tr th {\n",
       "        vertical-align: top;\n",
       "    }\n",
       "\n",
       "    .dataframe thead th {\n",
       "        text-align: right;\n",
       "    }\n",
       "</style>\n",
       "<table border=\"1\" class=\"dataframe\">\n",
       "  <thead>\n",
       "    <tr style=\"text-align: right;\">\n",
       "      <th></th>\n",
       "      <th>isFraud</th>\n",
       "    </tr>\n",
       "  </thead>\n",
       "  <tbody>\n",
       "    <tr>\n",
       "      <th>0</th>\n",
       "      <td>1</td>\n",
       "    </tr>\n",
       "    <tr>\n",
       "      <th>1</th>\n",
       "      <td>1</td>\n",
       "    </tr>\n",
       "    <tr>\n",
       "      <th>2</th>\n",
       "      <td>1</td>\n",
       "    </tr>\n",
       "    <tr>\n",
       "      <th>3</th>\n",
       "      <td>1</td>\n",
       "    </tr>\n",
       "    <tr>\n",
       "      <th>4</th>\n",
       "      <td>1</td>\n",
       "    </tr>\n",
       "  </tbody>\n",
       "</table>\n",
       "</div>"
      ],
      "text/plain": [
       "   isFraud\n",
       "0        1\n",
       "1        1\n",
       "2        1\n",
       "3        1\n",
       "4        1"
      ]
     },
     "execution_count": 81,
     "metadata": {},
     "output_type": "execute_result"
    }
   ],
   "source": [
    "y_train_us.head()"
   ]
  },
  {
   "cell_type": "code",
   "execution_count": 83,
   "id": "7f7079f9",
   "metadata": {},
   "outputs": [
    {
     "data": {
      "text/html": [
       "<div>\n",
       "<style scoped>\n",
       "    .dataframe tbody tr th:only-of-type {\n",
       "        vertical-align: middle;\n",
       "    }\n",
       "\n",
       "    .dataframe tbody tr th {\n",
       "        vertical-align: top;\n",
       "    }\n",
       "\n",
       "    .dataframe thead th {\n",
       "        text-align: right;\n",
       "    }\n",
       "</style>\n",
       "<table border=\"1\" class=\"dataframe\">\n",
       "  <thead>\n",
       "    <tr style=\"text-align: right;\">\n",
       "      <th></th>\n",
       "      <th>amount</th>\n",
       "      <th>oldbalanceOrig</th>\n",
       "      <th>newbalanceOrig</th>\n",
       "      <th>oldbalanceDest</th>\n",
       "      <th>newbalanceDest</th>\n",
       "      <th>customerDest</th>\n",
       "      <th>merchantDest</th>\n",
       "      <th>(CASH_IN,)</th>\n",
       "      <th>(CASH_OUT,)</th>\n",
       "      <th>(DEBIT,)</th>\n",
       "      <th>(PAYMENT,)</th>\n",
       "      <th>(TRANSFER,)</th>\n",
       "    </tr>\n",
       "  </thead>\n",
       "  <tbody>\n",
       "    <tr>\n",
       "      <th>count</th>\n",
       "      <td>3.750707e+06</td>\n",
       "      <td>3.750707e+06</td>\n",
       "      <td>3.750707e+06</td>\n",
       "      <td>3.750707e+06</td>\n",
       "      <td>3.750707e+06</td>\n",
       "      <td>3.750707e+06</td>\n",
       "      <td>3.750707e+06</td>\n",
       "      <td>3.750707e+06</td>\n",
       "      <td>3.750707e+06</td>\n",
       "      <td>3.750707e+06</td>\n",
       "      <td>3.750707e+06</td>\n",
       "      <td>3.750707e+06</td>\n",
       "    </tr>\n",
       "    <tr>\n",
       "      <th>mean</th>\n",
       "      <td>2.122874e-03</td>\n",
       "      <td>4.223236e-04</td>\n",
       "      <td>1.840729e-04</td>\n",
       "      <td>-4.948530e-04</td>\n",
       "      <td>-4.478328e-04</td>\n",
       "      <td>6.618184e-01</td>\n",
       "      <td>3.381816e-01</td>\n",
       "      <td>2.199337e-01</td>\n",
       "      <td>3.515137e-01</td>\n",
       "      <td>6.494776e-03</td>\n",
       "      <td>3.381816e-01</td>\n",
       "      <td>8.387619e-02</td>\n",
       "    </tr>\n",
       "    <tr>\n",
       "      <th>std</th>\n",
       "      <td>3.331887e+00</td>\n",
       "      <td>1.000793e+00</td>\n",
       "      <td>1.000543e+00</td>\n",
       "      <td>9.949616e-01</td>\n",
       "      <td>9.933862e-01</td>\n",
       "      <td>4.730907e-01</td>\n",
       "      <td>4.730907e-01</td>\n",
       "      <td>4.142016e-01</td>\n",
       "      <td>4.774431e-01</td>\n",
       "      <td>8.032805e-02</td>\n",
       "      <td>4.730907e-01</td>\n",
       "      <td>2.772021e-01</td>\n",
       "    </tr>\n",
       "    <tr>\n",
       "      <th>min</th>\n",
       "      <td>-1.000000e+00</td>\n",
       "      <td>-2.888620e-01</td>\n",
       "      <td>-2.925825e-01</td>\n",
       "      <td>-3.239330e-01</td>\n",
       "      <td>-3.335649e-01</td>\n",
       "      <td>0.000000e+00</td>\n",
       "      <td>0.000000e+00</td>\n",
       "      <td>0.000000e+00</td>\n",
       "      <td>0.000000e+00</td>\n",
       "      <td>0.000000e+00</td>\n",
       "      <td>0.000000e+00</td>\n",
       "      <td>0.000000e+00</td>\n",
       "    </tr>\n",
       "    <tr>\n",
       "      <th>25%</th>\n",
       "      <td>-9.255368e-01</td>\n",
       "      <td>-2.888620e-01</td>\n",
       "      <td>-2.925825e-01</td>\n",
       "      <td>-3.239330e-01</td>\n",
       "      <td>-3.335649e-01</td>\n",
       "      <td>0.000000e+00</td>\n",
       "      <td>0.000000e+00</td>\n",
       "      <td>0.000000e+00</td>\n",
       "      <td>0.000000e+00</td>\n",
       "      <td>0.000000e+00</td>\n",
       "      <td>0.000000e+00</td>\n",
       "      <td>0.000000e+00</td>\n",
       "    </tr>\n",
       "    <tr>\n",
       "      <th>50%</th>\n",
       "      <td>-5.833226e-01</td>\n",
       "      <td>-2.839064e-01</td>\n",
       "      <td>-2.925825e-01</td>\n",
       "      <td>-2.850311e-01</td>\n",
       "      <td>-2.752343e-01</td>\n",
       "      <td>1.000000e+00</td>\n",
       "      <td>0.000000e+00</td>\n",
       "      <td>0.000000e+00</td>\n",
       "      <td>0.000000e+00</td>\n",
       "      <td>0.000000e+00</td>\n",
       "      <td>0.000000e+00</td>\n",
       "      <td>0.000000e+00</td>\n",
       "    </tr>\n",
       "    <tr>\n",
       "      <th>75%</th>\n",
       "      <td>1.611817e-01</td>\n",
       "      <td>-2.516280e-01</td>\n",
       "      <td>-2.432537e-01</td>\n",
       "      <td>-4.685111e-02</td>\n",
       "      <td>-3.107595e-02</td>\n",
       "      <td>1.000000e+00</td>\n",
       "      <td>1.000000e+00</td>\n",
       "      <td>0.000000e+00</td>\n",
       "      <td>1.000000e+00</td>\n",
       "      <td>0.000000e+00</td>\n",
       "      <td>1.000000e+00</td>\n",
       "      <td>0.000000e+00</td>\n",
       "    </tr>\n",
       "    <tr>\n",
       "      <th>max</th>\n",
       "      <td>5.134086e+02</td>\n",
       "      <td>1.955415e+01</td>\n",
       "      <td>1.588755e+01</td>\n",
       "      <td>1.043966e+02</td>\n",
       "      <td>9.662350e+01</td>\n",
       "      <td>1.000000e+00</td>\n",
       "      <td>1.000000e+00</td>\n",
       "      <td>1.000000e+00</td>\n",
       "      <td>1.000000e+00</td>\n",
       "      <td>1.000000e+00</td>\n",
       "      <td>1.000000e+00</td>\n",
       "      <td>1.000000e+00</td>\n",
       "    </tr>\n",
       "  </tbody>\n",
       "</table>\n",
       "</div>"
      ],
      "text/plain": [
       "             amount  oldbalanceOrig  newbalanceOrig  oldbalanceDest  \\\n",
       "count  3.750707e+06    3.750707e+06    3.750707e+06    3.750707e+06   \n",
       "mean   2.122874e-03    4.223236e-04    1.840729e-04   -4.948530e-04   \n",
       "std    3.331887e+00    1.000793e+00    1.000543e+00    9.949616e-01   \n",
       "min   -1.000000e+00   -2.888620e-01   -2.925825e-01   -3.239330e-01   \n",
       "25%   -9.255368e-01   -2.888620e-01   -2.925825e-01   -3.239330e-01   \n",
       "50%   -5.833226e-01   -2.839064e-01   -2.925825e-01   -2.850311e-01   \n",
       "75%    1.611817e-01   -2.516280e-01   -2.432537e-01   -4.685111e-02   \n",
       "max    5.134086e+02    1.955415e+01    1.588755e+01    1.043966e+02   \n",
       "\n",
       "       newbalanceDest  customerDest  merchantDest    (CASH_IN,)   (CASH_OUT,)  \\\n",
       "count    3.750707e+06  3.750707e+06  3.750707e+06  3.750707e+06  3.750707e+06   \n",
       "mean    -4.478328e-04  6.618184e-01  3.381816e-01  2.199337e-01  3.515137e-01   \n",
       "std      9.933862e-01  4.730907e-01  4.730907e-01  4.142016e-01  4.774431e-01   \n",
       "min     -3.335649e-01  0.000000e+00  0.000000e+00  0.000000e+00  0.000000e+00   \n",
       "25%     -3.335649e-01  0.000000e+00  0.000000e+00  0.000000e+00  0.000000e+00   \n",
       "50%     -2.752343e-01  1.000000e+00  0.000000e+00  0.000000e+00  0.000000e+00   \n",
       "75%     -3.107595e-02  1.000000e+00  1.000000e+00  0.000000e+00  1.000000e+00   \n",
       "max      9.662350e+01  1.000000e+00  1.000000e+00  1.000000e+00  1.000000e+00   \n",
       "\n",
       "           (DEBIT,)    (PAYMENT,)   (TRANSFER,)  \n",
       "count  3.750707e+06  3.750707e+06  3.750707e+06  \n",
       "mean   6.494776e-03  3.381816e-01  8.387619e-02  \n",
       "std    8.032805e-02  4.730907e-01  2.772021e-01  \n",
       "min    0.000000e+00  0.000000e+00  0.000000e+00  \n",
       "25%    0.000000e+00  0.000000e+00  0.000000e+00  \n",
       "50%    0.000000e+00  0.000000e+00  0.000000e+00  \n",
       "75%    0.000000e+00  1.000000e+00  0.000000e+00  \n",
       "max    1.000000e+00  1.000000e+00  1.000000e+00  "
      ]
     },
     "execution_count": 83,
     "metadata": {},
     "output_type": "execute_result"
    }
   ],
   "source": [
    "X_train_us.describe()"
   ]
  },
  {
   "cell_type": "code",
   "execution_count": 84,
   "id": "d5060f7a",
   "metadata": {},
   "outputs": [
    {
     "data": {
      "text/html": [
       "<div>\n",
       "<style scoped>\n",
       "    .dataframe tbody tr th:only-of-type {\n",
       "        vertical-align: middle;\n",
       "    }\n",
       "\n",
       "    .dataframe tbody tr th {\n",
       "        vertical-align: top;\n",
       "    }\n",
       "\n",
       "    .dataframe thead th {\n",
       "        text-align: right;\n",
       "    }\n",
       "</style>\n",
       "<table border=\"1\" class=\"dataframe\">\n",
       "  <thead>\n",
       "    <tr style=\"text-align: right;\">\n",
       "      <th></th>\n",
       "      <th>isFraud</th>\n",
       "    </tr>\n",
       "  </thead>\n",
       "  <tbody>\n",
       "    <tr>\n",
       "      <th>count</th>\n",
       "      <td>3.750707e+06</td>\n",
       "    </tr>\n",
       "    <tr>\n",
       "      <th>mean</th>\n",
       "      <td>1.741538e-03</td>\n",
       "    </tr>\n",
       "    <tr>\n",
       "      <th>std</th>\n",
       "      <td>4.169539e-02</td>\n",
       "    </tr>\n",
       "    <tr>\n",
       "      <th>min</th>\n",
       "      <td>0.000000e+00</td>\n",
       "    </tr>\n",
       "    <tr>\n",
       "      <th>25%</th>\n",
       "      <td>0.000000e+00</td>\n",
       "    </tr>\n",
       "    <tr>\n",
       "      <th>50%</th>\n",
       "      <td>0.000000e+00</td>\n",
       "    </tr>\n",
       "    <tr>\n",
       "      <th>75%</th>\n",
       "      <td>0.000000e+00</td>\n",
       "    </tr>\n",
       "    <tr>\n",
       "      <th>max</th>\n",
       "      <td>1.000000e+00</td>\n",
       "    </tr>\n",
       "  </tbody>\n",
       "</table>\n",
       "</div>"
      ],
      "text/plain": [
       "            isFraud\n",
       "count  3.750707e+06\n",
       "mean   1.741538e-03\n",
       "std    4.169539e-02\n",
       "min    0.000000e+00\n",
       "25%    0.000000e+00\n",
       "50%    0.000000e+00\n",
       "75%    0.000000e+00\n",
       "max    1.000000e+00"
      ]
     },
     "execution_count": 84,
     "metadata": {},
     "output_type": "execute_result"
    }
   ],
   "source": [
    "y_train_us.describe()"
   ]
  },
  {
   "cell_type": "code",
   "execution_count": 90,
   "id": "718b2867",
   "metadata": {},
   "outputs": [],
   "source": [
    "X_wr = X_train_us.copy()\n",
    "y_wr = y_train_us.copy()"
   ]
  },
  {
   "cell_type": "code",
   "execution_count": 92,
   "id": "abd7caa2",
   "metadata": {},
   "outputs": [
    {
     "name": "stdout",
     "output_type": "stream",
     "text": [
      "Epoch 1/10\n",
      "15900/15907 [============================>.] - ETA: 0s"
     ]
    },
    {
     "ename": "ValueError",
     "evalue": "Unexpected result of `train_function` (Empty logs). This could be due to issues in input pipeline that resulted in an empty dataset. Otherwise, please use `Model.compile(..., run_eagerly=True)`, or `tf.config.run_functions_eagerly(True)` for more information of where went wrong, or file a issue/bug to `tf.keras`.",
     "output_type": "error",
     "traceback": [
      "\u001b[1;31m---------------------------------------------------------------------------\u001b[0m",
      "\u001b[1;31mValueError\u001b[0m                                Traceback (most recent call last)",
      "Cell \u001b[1;32mIn[92], line 1\u001b[0m\n\u001b[1;32m----> 1\u001b[0m history \u001b[38;5;241m=\u001b[39m simple_model\u001b[38;5;241m.\u001b[39mfit(X_train, y_train, batch_size\u001b[38;5;241m=\u001b[39m\u001b[38;5;241m256\u001b[39m, epochs\u001b[38;5;241m=\u001b[39m\u001b[38;5;241m10\u001b[39m, validation_split\u001b[38;5;241m=\u001b[39m\u001b[38;5;241m0.2\u001b[39m)\n",
      "File \u001b[1;32m~\\anaconda3\\Lib\\site-packages\\keras\\src\\utils\\traceback_utils.py:70\u001b[0m, in \u001b[0;36mfilter_traceback.<locals>.error_handler\u001b[1;34m(*args, **kwargs)\u001b[0m\n\u001b[0;32m     67\u001b[0m     filtered_tb \u001b[38;5;241m=\u001b[39m _process_traceback_frames(e\u001b[38;5;241m.\u001b[39m__traceback__)\n\u001b[0;32m     68\u001b[0m     \u001b[38;5;66;03m# To get the full stack trace, call:\u001b[39;00m\n\u001b[0;32m     69\u001b[0m     \u001b[38;5;66;03m# `tf.debugging.disable_traceback_filtering()`\u001b[39;00m\n\u001b[1;32m---> 70\u001b[0m     \u001b[38;5;28;01mraise\u001b[39;00m e\u001b[38;5;241m.\u001b[39mwith_traceback(filtered_tb) \u001b[38;5;28;01mfrom\u001b[39;00m \u001b[38;5;28;01mNone\u001b[39;00m\n\u001b[0;32m     71\u001b[0m \u001b[38;5;28;01mfinally\u001b[39;00m:\n\u001b[0;32m     72\u001b[0m     \u001b[38;5;28;01mdel\u001b[39;00m filtered_tb\n",
      "File \u001b[1;32m~\\anaconda3\\Lib\\site-packages\\keras\\src\\engine\\training.py:1819\u001b[0m, in \u001b[0;36mModel.fit\u001b[1;34m(self, x, y, batch_size, epochs, verbose, callbacks, validation_split, validation_data, shuffle, class_weight, sample_weight, initial_epoch, steps_per_epoch, validation_steps, validation_batch_size, validation_freq, max_queue_size, workers, use_multiprocessing)\u001b[0m\n\u001b[0;32m   1817\u001b[0m logs \u001b[38;5;241m=\u001b[39m tf_utils\u001b[38;5;241m.\u001b[39msync_to_numpy_or_python_type(logs)\n\u001b[0;32m   1818\u001b[0m \u001b[38;5;28;01mif\u001b[39;00m logs \u001b[38;5;129;01mis\u001b[39;00m \u001b[38;5;28;01mNone\u001b[39;00m:\n\u001b[1;32m-> 1819\u001b[0m     \u001b[38;5;28;01mraise\u001b[39;00m \u001b[38;5;167;01mValueError\u001b[39;00m(\n\u001b[0;32m   1820\u001b[0m         \u001b[38;5;124m\"\u001b[39m\u001b[38;5;124mUnexpected result of `train_function` \u001b[39m\u001b[38;5;124m\"\u001b[39m\n\u001b[0;32m   1821\u001b[0m         \u001b[38;5;124m\"\u001b[39m\u001b[38;5;124m(Empty logs). This could be due to issues in input \u001b[39m\u001b[38;5;124m\"\u001b[39m\n\u001b[0;32m   1822\u001b[0m         \u001b[38;5;124m\"\u001b[39m\u001b[38;5;124mpipeline that resulted in an empty dataset. \u001b[39m\u001b[38;5;124m\"\u001b[39m\n\u001b[0;32m   1823\u001b[0m         \u001b[38;5;124m\"\u001b[39m\u001b[38;5;124mOtherwise, please use \u001b[39m\u001b[38;5;124m\"\u001b[39m\n\u001b[0;32m   1824\u001b[0m         \u001b[38;5;124m\"\u001b[39m\u001b[38;5;124m`Model.compile(..., run_eagerly=True)`, or \u001b[39m\u001b[38;5;124m\"\u001b[39m\n\u001b[0;32m   1825\u001b[0m         \u001b[38;5;124m\"\u001b[39m\u001b[38;5;124m`tf.config.run_functions_eagerly(True)` for more \u001b[39m\u001b[38;5;124m\"\u001b[39m\n\u001b[0;32m   1826\u001b[0m         \u001b[38;5;124m\"\u001b[39m\u001b[38;5;124minformation of where went wrong, or file a \u001b[39m\u001b[38;5;124m\"\u001b[39m\n\u001b[0;32m   1827\u001b[0m         \u001b[38;5;124m\"\u001b[39m\u001b[38;5;124missue/bug to `tf.keras`.\u001b[39m\u001b[38;5;124m\"\u001b[39m\n\u001b[0;32m   1828\u001b[0m     )\n\u001b[0;32m   1829\u001b[0m \u001b[38;5;66;03m# Override with model metrics instead of last step logs\u001b[39;00m\n\u001b[0;32m   1830\u001b[0m logs \u001b[38;5;241m=\u001b[39m \u001b[38;5;28mself\u001b[39m\u001b[38;5;241m.\u001b[39m_validate_and_get_metrics_result(logs)\n",
      "\u001b[1;31mValueError\u001b[0m: Unexpected result of `train_function` (Empty logs). This could be due to issues in input pipeline that resulted in an empty dataset. Otherwise, please use `Model.compile(..., run_eagerly=True)`, or `tf.config.run_functions_eagerly(True)` for more information of where went wrong, or file a issue/bug to `tf.keras`."
     ]
    }
   ],
   "source": [
    "history = simple_model.fit(X_train, y_train, batch_size=256, epochs=10, validation_split=0.2)"
   ]
  },
  {
   "cell_type": "code",
   "execution_count": 62,
   "id": "5ff2e80f",
   "metadata": {},
   "outputs": [
    {
     "name": "stdout",
     "output_type": "stream",
     "text": [
      "Model: \"simple_model\"\n",
      "_________________________________________________________________\n",
      " Layer (type)                Output Shape              Param #   \n",
      "=================================================================\n",
      " input_2 (InputLayer)        [(None, 12)]              0         \n",
      "                                                                 \n",
      " dense_1 (Dense)             (None, 1)                 13        \n",
      "                                                                 \n",
      "=================================================================\n",
      "Total params: 13 (52.00 Byte)\n",
      "Trainable params: 13 (52.00 Byte)\n",
      "Non-trainable params: 0 (0.00 Byte)\n",
      "_________________________________________________________________\n"
     ]
    }
   ],
   "source": [
    "list_of_metrics_to_plot = ['loss','val_loss','precision','recall','val_precision','val_recall']\n",
    "plot_curve(history.epoch, pd.DataFrame(history.history), list_of_metrics_to_plot)"
   ]
  }
 ],
 "metadata": {
  "kernelspec": {
   "display_name": "Python 3 (ipykernel)",
   "language": "python",
   "name": "python3"
  },
  "language_info": {
   "codemirror_mode": {
    "name": "ipython",
    "version": 3
   },
   "file_extension": ".py",
   "mimetype": "text/x-python",
   "name": "python",
   "nbconvert_exporter": "python",
   "pygments_lexer": "ipython3",
   "version": "3.11.5"
  }
 },
 "nbformat": 4,
 "nbformat_minor": 5
}
